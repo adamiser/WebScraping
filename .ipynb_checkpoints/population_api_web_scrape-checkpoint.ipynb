{
 "cells": [
  {
   "cell_type": "code",
   "execution_count": 1,
   "id": "f1a79905",
   "metadata": {},
   "outputs": [],
   "source": [
    "import pandas as pd\n",
    "import numpy as np\n",
    "import requests as re\n",
    "from bs4 import BeautifulSoup"
   ]
  },
  {
   "cell_type": "code",
   "execution_count": 2,
   "id": "ab7653ba",
   "metadata": {},
   "outputs": [],
   "source": [
    "def callAPI(relative_path, topic_list = False) -> pd.DataFrame:\n",
    "\n",
    "    base_url = \"https://population.un.org/dataportalapi/api/v1\"\n",
    "    url = base_url + relative_path\n",
    "    r = re.get(url)\n",
    "    r.status_code\n",
    "\n",
    "    j = r.json()\n",
    "    \n",
    "    if topic_list:\n",
    "        df = pd.json_normalize(j, 'indicators')\n",
    "        return(df)\n",
    "    \n",
    "    df = pd.json_normalize(j['data'])\n",
    "    while j['nextPage'] != None:\n",
    "        response = re.get(j['nextPage'])\n",
    "        j = response.json()\n",
    "        df_temp = pd.json_normalize(j['data'])\n",
    "        #df = df.append(df_temp)\n",
    "        df = pd.concat([df, df_temp])\n",
    "    \n",
    "    return(df)\n",
    "\n"
   ]
  },
  {
   "cell_type": "code",
   "execution_count": 18,
   "id": "3b969e1d",
   "metadata": {},
   "outputs": [
    {
     "data": {
      "text/plain": [
       "40    156\n",
       "Name: id, dtype: int64"
      ]
     },
     "execution_count": 18,
     "metadata": {},
     "output_type": "execute_result"
    }
   ],
   "source": [
    "df_locations = callAPI(\"/locations/\")\n",
    "df_locations[df_locations['name'] == \"China\"]['id']\n",
    "# 840 - USA\n",
    "# 36 - Australia\n",
    "# 554 - NZ\n",
    "# 882 - Samoa\n",
    "# 776 - Tonga\n",
    "# 242 - Fiji\n",
    "# 818 - Egypt\n",
    "# 231 - Ethiopia\n",
    "# 356 - India\n",
    "# 566 - Nigeria\n",
    "# 586 - Pakistan\n",
    "# 608 - Philippines\n",
    "# 178 - Congo\n",
    "# 392 - Japan\n",
    "# 156 - China"
   ]
  },
  {
   "cell_type": "code",
   "execution_count": 19,
   "id": "3c7e28e3",
   "metadata": {},
   "outputs": [],
   "source": [
    "# What locations do I want?\n",
    "\n",
    "# 36 - Australia\n",
    "# 554 - NZ\n",
    "# 882 - Samoa\n",
    "# 776 - Tonga\n",
    "# 242 - Fiji\n",
    "\n",
    "# 818 - Egypt\n",
    "# 231 - Ethiopia\n",
    "# 356 - India\n",
    "# 566 - Nigeria\n",
    "# 586 - Pakistan\n",
    "# 608 - Philippines\n",
    "# 178 - Congo\n",
    "# 392 - Japan\n",
    "# 156 - China\n",
    "# 840 - USA\n",
    "\n",
    "\n",
    "# What data do I want?\n",
    "\n",
    "# 75, 76 - life expectancy\n",
    "# 74 - births by age of mother\n",
    "# 70,71 - population by age groups\n",
    "# 67 - median age population\n",
    "# 66 - migration\n",
    "# 65 - net-migration\n",
    "# 63 - probability of dying between 15 and 60\n",
    "# 61 - life expectancy at birth\n",
    "# 56 - net reproduction rate (daughters per woman)\n",
    "# 55 - crude birth rate\n",
    "# 54 - population density\n",
    "# 43 - currently married (number)\n",
    "# 42 - currently married (percent)\n",
    "# 22 - infant mortality rate\n",
    "# 19 - total fertility rate\n",
    "\n",
    "# KEEP - 0, 1, 16, 31\n",
    "\n",
    "# Fertility rate\n",
    "# Only want variantLabel = Median\n",
    "fert = callAPI(\"/data/indicators/19/locations/818,231,356,566,586,608,178,392,156,840/start/1980/end/2020\")\n",
    "fert = fert[fert['variantLabel'] == 'Median']\n",
    "fert = fert.rename(columns={'value':'Fertility_rate'})\n",
    "fert = fert.drop(fert.columns[[2, 3, 4, 5, 6, 7, 8, 9, 10, 11, 12, 13, 14, 15, 17, 18,\n",
    "                       19, 20, 21, 22, 23, 24, 25, 26, 27, 28, 29, 30]], axis = 1)\n",
    "\n",
    "# Infant mortality rate \n",
    "# Only want sex = Both sexes\n",
    "inf_mort = callAPI(\"/data/indicators/22/locations/818,231,356,566,586,608,178,392,156,840/start/1980/end/2020\")\n",
    "inf_mort = inf_mort[inf_mort['sex'] == 'Both sexes']\n",
    "inf_mort = inf_mort.rename(columns={'value':'Inf_Mortality_rate'})\n",
    "inf_mort = inf_mort.drop(inf_mort.columns[[2, 3, 4, 5, 6, 7, 8, 9, 10, 11, 12, 13, 14, 15, 17, 18,\n",
    "                       19, 20, 21, 22, 23, 24, 25, 26, 27, 28, 29, 30]], axis = 1)\n",
    "\n",
    "# Life expectancy at birth \n",
    "# Only want sex = Both sexes\n",
    "life = callAPI(\"/data/indicators/61/locations/818,231,356,566,586,608,178,392,156,840/start/1980/end/2020\")\n",
    "life = life[life['sex'] == 'Both sexes']\n",
    "life = life.rename(columns={'value':'Life_expectancy'})\n",
    "life = life.drop(life.columns[[2, 3, 4, 5, 6, 7, 8, 9, 10, 11, 12, 13, 14, 15, 17, 18,\n",
    "                       19, 20, 21, 22, 23, 24, 25, 26, 27, 28, 29, 30]], axis = 1)\n",
    "\n",
    "# Population density \n",
    "pop_dens = callAPI(\"/data/indicators/54/locations/818,231,356,566,586,608,178,392,156,840/start/1980/end/2020\")\n",
    "pop_dens = pop_dens.rename(columns={'value':'Pop_density'})\n",
    "pop_dens = pop_dens.drop(pop_dens.columns[[2, 3, 4, 5, 6, 7, 8, 9, 10, 11, 12, 13, 14, 15, 17, 18,\n",
    "                       19, 20, 21, 22, 23, 24, 25, 26, 27, 28, 29, 30]], axis = 1)\n",
    "\n",
    "# Crude birth rate \n",
    "birth_rate = callAPI(\"/data/indicators/55/locations/818,231,356,566,586,608,178,392,156,840/start/1980/end/2020\")\n",
    "birth_rate = birth_rate.rename(columns={'value':'Birth_rate'})\n",
    "birth_rate = birth_rate.drop(birth_rate.columns[[2, 3, 4, 5, 6, 7, 8, 9, 10, 11, 12, 13, 14, 15, 17, 18,\n",
    "                       19, 20, 21, 22, 23, 24, 25, 26, 27, 28, 29, 30]], axis = 1)\n",
    "\n",
    "df = pd.merge(fert, inf_mort, on=[\"locationId\", \"location\", \"timeLabel\"])\n",
    "df = pd.merge(df, life, on=[\"locationId\", \"location\", \"timeLabel\"])\n",
    "df = pd.merge(df, pop_dens, on=[\"locationId\", \"location\", \"timeLabel\"])\n",
    "df = pd.merge(df, birth_rate, on=[\"locationId\", \"location\", \"timeLabel\"])"
   ]
  },
  {
   "cell_type": "code",
   "execution_count": 21,
   "id": "44cb9008",
   "metadata": {},
   "outputs": [],
   "source": [
    "df.to_csv('population_data_updated.csv')"
   ]
  }
 ],
 "metadata": {
  "kernelspec": {
   "display_name": "Python 3 (ipykernel)",
   "language": "python",
   "name": "python3"
  },
  "language_info": {
   "codemirror_mode": {
    "name": "ipython",
    "version": 3
   },
   "file_extension": ".py",
   "mimetype": "text/x-python",
   "name": "python",
   "nbconvert_exporter": "python",
   "pygments_lexer": "ipython3",
   "version": "3.9.12"
  }
 },
 "nbformat": 4,
 "nbformat_minor": 5
}
